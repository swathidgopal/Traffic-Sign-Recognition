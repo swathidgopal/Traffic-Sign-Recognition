{
  "nbformat": 4,
  "nbformat_minor": 0,
  "metadata": {
    "colab": {
      "name": "CS525_Brain_Inspired_computing_Project_Group_9.ipynb",
      "provenance": [],
      "collapsed_sections": []
    },
    "kernelspec": {
      "name": "python3",
      "display_name": "Python 3"
    },
    "language_info": {
      "name": "python"
    },
    "accelerator": "GPU"
  },
  "cells": [
    {
      "cell_type": "code",
      "source": [
        "#Snn torch Installation \n",
        "!pip install snntorch --quiet"
      ],
      "metadata": {
        "id": "BjjmL5KI1ab0",
        "colab": {
          "base_uri": "https://localhost:8080/"
        },
        "outputId": "a3e9b5cf-215c-466f-c00a-42d3c8745015"
      },
      "execution_count": null,
      "outputs": [
        {
          "output_type": "stream",
          "name": "stdout",
          "text": [
            "\u001b[?25l\r\u001b[K     |███▌                            | 10 kB 20.4 MB/s eta 0:00:01\r\u001b[K     |███████                         | 20 kB 9.7 MB/s eta 0:00:01\r\u001b[K     |██████████▋                     | 30 kB 8.0 MB/s eta 0:00:01\r\u001b[K     |██████████████▏                 | 40 kB 7.5 MB/s eta 0:00:01\r\u001b[K     |█████████████████▊              | 51 kB 4.7 MB/s eta 0:00:01\r\u001b[K     |█████████████████████▎          | 61 kB 5.5 MB/s eta 0:00:01\r\u001b[K     |████████████████████████▉       | 71 kB 5.4 MB/s eta 0:00:01\r\u001b[K     |████████████████████████████▎   | 81 kB 5.3 MB/s eta 0:00:01\r\u001b[K     |███████████████████████████████▉| 92 kB 5.9 MB/s eta 0:00:01\r\u001b[K     |████████████████████████████████| 92 kB 381 kB/s \n",
            "\u001b[?25h"
          ]
        }
      ]
    },
    {
      "cell_type": "code",
      "source": [
        "#Importing Libraries\n",
        "import numpy as np\n",
        "import pandas as pd\n",
        "import os\n",
        "import cv2\n",
        "import matplotlib.pyplot as plt\n",
        "from torch.utils.data import DataLoader\n",
        "from torchvision import datasets, transforms\n",
        "from PIL import Image\n",
        "import os\n",
        "import tensorflow as tf\n",
        "import torch, torch.nn as nn\n",
        "import snntorch as snn\n",
        "import glob\n",
        "from skimage import color\n",
        "from skimage import io\n",
        "from google.colab import drive"
      ],
      "metadata": {
        "id": "teZHzoEhzgVR"
      },
      "execution_count": null,
      "outputs": []
    },
    {
      "cell_type": "code",
      "source": [
        "#Data Loading\n",
        "drive.mount('/content/drive')"
      ],
      "metadata": {
        "colab": {
          "base_uri": "https://localhost:8080/"
        },
        "id": "NWtk2-Rj0p3B",
        "outputId": "13470bad-437f-4a3a-d92b-fdd1882f0378"
      },
      "execution_count": null,
      "outputs": [
        {
          "output_type": "stream",
          "name": "stdout",
          "text": [
            "Mounted at /content/drive\n"
          ]
        }
      ]
    },
    {
      "cell_type": "code",
      "source": [
        "device = torch.device(\"cuda\") if torch.cuda.is_available() else torch.device(\"cpu\")"
      ],
      "metadata": {
        "id": "SOIaHbBF1uU-"
      },
      "execution_count": null,
      "outputs": []
    },
    {
      "cell_type": "code",
      "execution_count": null,
      "metadata": {
        "colab": {
          "base_uri": "https://localhost:8080/"
        },
        "id": "jPKpTIaly6WR",
        "outputId": "c8d0e42c-0f2d-4ae3-ecac-2f1f8da450ee"
      },
      "outputs": [
        {
          "output_type": "stream",
          "name": "stdout",
          "text": [
            "1  2\n",
            "Patth: drive/MyDrive/MyTrafficWorkingDataSet/Data/1\n",
            "Patth: drive/MyDrive/MyTrafficWorkingDataSet/Data/2\n",
            "(5349, 28, 28, 1) (5349,)\n",
            "float32\n"
          ]
        }
      ],
      "source": [
        "#Data Loading\n",
        "image_data_train = []\n",
        "image_labels_train = []\n",
        "!ls drive/MyDrive/MyTrafficWorkingDataSet/Data\n",
        "data_dir = r'drive/MyDrive/MyTrafficWorkingDataSet/Data'\n",
        "for i in range(2):\n",
        "    path =os.path.join(data_dir,str(i+1))\n",
        "    print('Patth: '+path)\n",
        "    for img in os.listdir(path):\n",
        "        try:\n",
        "            \n",
        "            image = cv2.imread(os.path.join(path,img),0)\n",
        "            image_fromarray = Image.fromarray(image, 'L')\n",
        "            \n",
        "            resize_image = image_fromarray.resize((28,28))\n",
        "            image_data_train.append(np.array(resize_image))\n",
        "            image_labels_train.append(i)\n",
        "        except:\n",
        "            print(\"Error in \" + img)\n",
        "\n",
        "#Reshaping the data\n",
        "image_data_train = np.array(image_data_train)\n",
        "image_data_train = np.expand_dims(image_data_train, axis=-1)\n",
        "image_labels_train = np.array(image_labels_train)\n",
        "\n",
        "print(image_data_train.shape, image_labels_train.shape)\n",
        "\n",
        "image_data_train = image_data_train.astype(np.float32)\n",
        "print(image_data_train.dtype)"
      ]
    },
    {
      "cell_type": "code",
      "source": [
        "#Changing the axis\n",
        "print(image_data_train.shape, image_labels_train.shape)\n",
        "rearranged_arr_train = np.moveaxis(image_data_train, [3,1,2],[1,2,3])\n",
        "image_data_train = rearranged_arr_train\n",
        "print(rearranged_arr_train.shape, image_labels_train[5000])"
      ],
      "metadata": {
        "colab": {
          "base_uri": "https://localhost:8080/"
        },
        "id": "EUcHkKFZjoHr",
        "outputId": "1a753d16-428b-4dd3-b0eb-ed657f91aad1"
      },
      "execution_count": null,
      "outputs": [
        {
          "output_type": "stream",
          "name": "stdout",
          "text": [
            "(5349, 28, 28, 1) (5349,)\n",
            "(5349, 1, 28, 28) 1\n"
          ]
        }
      ]
    },
    {
      "cell_type": "code",
      "source": [
        " if torch.cuda.is_available():\n",
        "      device = 'cuda'\n",
        "      print('cuda')\n",
        " else:\n",
        "      device = 'cpu'\n",
        "      print('cpu')\n"
      ],
      "metadata": {
        "id": "3Mxb6eHe1ygt",
        "colab": {
          "base_uri": "https://localhost:8080/"
        },
        "outputId": "ec237068-0209-43b1-a38c-41d5c650e659"
      },
      "execution_count": null,
      "outputs": [
        {
          "output_type": "stream",
          "name": "stdout",
          "text": [
            "cuda\n"
          ]
        }
      ]
    },
    {
      "cell_type": "code",
      "source": [
        "#  Initialize Network\n",
        "\n",
        "from snntorch import surrogate\n",
        "\n",
        "beta = 0.9 \n",
        "spike_grad = surrogate.fast_sigmoid()\n",
        "\n",
        "\n",
        "net = nn.Sequential(nn.Conv2d(1, 8, 5),\n",
        "                    nn.MaxPool2d(2),\n",
        "                    snn.Leaky(beta=beta, spike_grad=spike_grad, init_hidden=True),\n",
        "                    nn.Conv2d(8, 16, 5),\n",
        "                    nn.MaxPool2d(2),\n",
        "                    snn.Leaky(beta=beta, spike_grad=spike_grad, init_hidden=True),\n",
        "                    nn.Flatten(),\n",
        "                    nn.Linear(16*4*4, 2),\n",
        "                    snn.Leaky(beta=beta, spike_grad=spike_grad, init_hidden=True, output=True)\n",
        "                    ).to(device)"
      ],
      "metadata": {
        "id": "lgjDoPEG0cOi"
      },
      "execution_count": null,
      "outputs": []
    },
    {
      "cell_type": "code",
      "source": [
        "# forward pass\n",
        "from snntorch import utils \n",
        "\n",
        "def forward_pass(net, data, num_steps):  \n",
        "  spk_rec = []\n",
        "  utils.reset(net)\n",
        "\n",
        "  for step in range(num_steps): \n",
        "      spk_out, mem_out = net(data)\n",
        "      spk_rec.append(spk_out)\n",
        "  \n",
        "  return torch.stack(spk_rec)"
      ],
      "metadata": {
        "id": "W_XjLLgM0fms"
      },
      "execution_count": null,
      "outputs": []
    },
    {
      "cell_type": "code",
      "source": [
        "#optimizer and loss\n",
        "import snntorch.functional as SF\n",
        "\n",
        "optimizer = torch.optim.Adam(net.parameters(), lr=2e-3, betas=(0.9, 0.999))\n",
        "loss_fn = SF.mse_count_loss(correct_rate=0.8, incorrect_rate=0.2)\n",
        "i = 0"
      ],
      "metadata": {
        "id": "H1CvUv4W0iss"
      },
      "execution_count": null,
      "outputs": []
    },
    {
      "cell_type": "markdown",
      "source": [
        "Test Images Load\n"
      ],
      "metadata": {
        "id": "mHy5Sm-4CrNA"
      }
    },
    {
      "cell_type": "code",
      "source": [
        "#Test Image load\n",
        "image_data_test = []\n",
        "image_labels_test = []\n",
        "!ls drive/MyDrive/MyTrafficWorkingTest/Data\n",
        "data_dir = r'drive/MyDrive/MyTrafficWorkingTest/Data'\n",
        "for i in range(2):\n",
        "    path =os.path.join(data_dir,str(i+1))\n",
        "    print('Patth: '+path)\n",
        "    for img in os.listdir(path):\n",
        "        try:\n",
        "            \n",
        "            image = cv2.imread(os.path.join(path,img),0)\n",
        "            image_fromarray = Image.fromarray(image, 'L')\n",
        "            \n",
        "            resize_image = image_fromarray.resize((28,28))\n",
        "            image_data_test.append(np.array(resize_image))\n",
        "            image_labels_test.append(i)\n",
        "        except:\n",
        "            print(\"Error in \" + img)\n",
        "\n",
        "# Changing the list to numpy array\n",
        "image_data_test = np.array(image_data_test)\n",
        "image_data_test = np.expand_dims(image_data_test, axis=-1)\n",
        "image_labels_test = np.array(image_labels_test)\n",
        "\n",
        "print(image_data_test.shape, image_labels_test.shape)\n",
        "\n",
        "image_data_test = image_data_test.astype(np.float32)\n",
        "print(image_data_test.dtype)"
      ],
      "metadata": {
        "colab": {
          "base_uri": "https://localhost:8080/"
        },
        "id": "mlIsZ0rGTxS8",
        "outputId": "72b5d85d-b78e-4a3b-9bed-b8350078ea80"
      },
      "execution_count": null,
      "outputs": [
        {
          "output_type": "stream",
          "name": "stdout",
          "text": [
            "1  2\n",
            "Patth: drive/MyDrive/MyTrafficWorkingTest/Data/1\n",
            "Patth: drive/MyDrive/MyTrafficWorkingTest/Data/2\n",
            "(200, 28, 28, 1) (200,)\n",
            "float32\n"
          ]
        }
      ]
    },
    {
      "cell_type": "code",
      "source": [
        "#rearraging the test code\n",
        "rearranged_arr_test = np.moveaxis(image_data_test, [3,1,2],[1,2,3])\n",
        "image_data_test = rearranged_arr_test\n",
        "print(rearranged_arr_test.shape, image_labels_test.shape)"
      ],
      "metadata": {
        "colab": {
          "base_uri": "https://localhost:8080/"
        },
        "id": "gOLT_yJvTxOt",
        "outputId": "53bc8584-4dc2-475d-e75e-b5bec2d9fed3"
      },
      "execution_count": null,
      "outputs": [
        {
          "output_type": "stream",
          "name": "stdout",
          "text": [
            "(200, 1, 28, 28) (200,)\n"
          ]
        }
      ]
    },
    {
      "cell_type": "code",
      "source": [
        "# training and testing code\n",
        "num_epochs = 30\n",
        "num_steps = 25  # run for 25 time steps \n",
        "\n",
        "loss_hist_train = []\n",
        "acc_hist_train = []\n",
        "acc_hist_test = []\n",
        "\n",
        "for epoch in range(num_epochs):\n",
        "    data = image_data_train\n",
        "    targets = image_labels_train\n",
        "    data = torch.FloatTensor(data) \n",
        "    targets = torch.FloatTensor(targets)\n",
        "    \n",
        "    data = data.to(device)\n",
        "    targets = targets.to(device)\n",
        "       \n",
        "    net.train()\n",
        "    spk_rec = forward_pass(net, data, num_steps)\n",
        "    loss_val = loss_fn(spk_rec, targets)\n",
        "\n",
        "    optimizer.zero_grad()\n",
        "    loss_val.backward()\n",
        "    optimizer.step()\n",
        "\n",
        "    loss_hist_train.append(loss_val.item())\n",
        "\n",
        "    if i % 25 == 0:\n",
        "      print(f\"Epoch {epoch}, \\nTrain Loss: {loss_val.item():.2f}\")\n",
        "\n",
        "    acc = SF.accuracy_rate(spk_rec, targets)  \n",
        "    acc_hist_train.append(acc)\n",
        "    print(f\"Accuracy: {acc * 100:.2f}%\\n\")\n",
        "\n",
        "\n",
        "    total = 0\n",
        "    acc = 0 \n",
        "    net.eval()\n",
        "    data_test = image_data_test\n",
        "    targets_test = image_labels_test\n",
        "    data_test = torch.FloatTensor(data_test) \n",
        "    targets_test = torch.FloatTensor(targets_test)\n",
        "    \n",
        "    data_test = data_test.to(device)\n",
        "    targets_test = targets_test.to(device)\n",
        "\n",
        "    spk_rec = forward_pass(net, data_test, num_steps)\n",
        "    acc += SF.accuracy_rate(spk_rec, targets_test) * spk_rec.size(1)\n",
        "    total += spk_rec.size(1)\n",
        "    acc_hist_test.append(acc/total)\n",
        "    print(\"Test Accuracy \", acc/total)"
      ],
      "metadata": {
        "colab": {
          "base_uri": "https://localhost:8080/"
        },
        "id": "1erwHU7a0kTF",
        "outputId": "55a65242-2cba-497c-efeb-8c7e27b5e593"
      },
      "execution_count": null,
      "outputs": [
        {
          "output_type": "stream",
          "name": "stdout",
          "text": [
            "Accuracy: 25.61%\n",
            "\n",
            "Test Accuracy  0.5\n",
            "Accuracy: 25.61%\n",
            "\n",
            "Test Accuracy  0.5\n",
            "Accuracy: 74.39%\n",
            "\n",
            "Test Accuracy  0.5\n",
            "Accuracy: 74.39%\n",
            "\n",
            "Test Accuracy  0.5\n",
            "Accuracy: 74.39%\n",
            "\n",
            "Test Accuracy  0.5\n",
            "Accuracy: 74.39%\n",
            "\n",
            "Test Accuracy  0.5\n",
            "Accuracy: 74.39%\n",
            "\n",
            "Test Accuracy  0.5\n",
            "Accuracy: 74.39%\n",
            "\n",
            "Test Accuracy  0.5\n",
            "Accuracy: 74.39%\n",
            "\n",
            "Test Accuracy  0.62\n",
            "Accuracy: 76.33%\n",
            "\n",
            "Test Accuracy  0.835\n",
            "Accuracy: 85.46%\n",
            "\n",
            "Test Accuracy  0.775\n",
            "Accuracy: 82.28%\n",
            "\n",
            "Test Accuracy  0.55\n",
            "Accuracy: 75.86%\n",
            "\n",
            "Test Accuracy  0.5\n",
            "Accuracy: 74.39%\n",
            "\n",
            "Test Accuracy  0.5\n",
            "Accuracy: 74.39%\n",
            "\n",
            "Test Accuracy  0.5\n",
            "Accuracy: 74.39%\n",
            "\n",
            "Test Accuracy  0.5\n",
            "Accuracy: 74.39%\n",
            "\n",
            "Test Accuracy  0.5\n",
            "Accuracy: 74.39%\n",
            "\n",
            "Test Accuracy  0.5\n",
            "Accuracy: 74.39%\n",
            "\n",
            "Test Accuracy  0.5\n",
            "Accuracy: 74.39%\n",
            "\n",
            "Test Accuracy  0.51\n",
            "Accuracy: 74.65%\n",
            "\n",
            "Test Accuracy  0.545\n",
            "Accuracy: 76.29%\n",
            "\n",
            "Test Accuracy  0.74\n",
            "Accuracy: 82.22%\n",
            "\n",
            "Test Accuracy  0.87\n",
            "Accuracy: 90.13%\n",
            "\n",
            "Test Accuracy  0.93\n",
            "Accuracy: 94.90%\n",
            "\n",
            "Test Accuracy  0.95\n",
            "Accuracy: 95.91%\n",
            "\n",
            "Test Accuracy  0.955\n",
            "Accuracy: 96.58%\n",
            "\n",
            "Test Accuracy  0.97\n",
            "Accuracy: 96.26%\n",
            "\n",
            "Test Accuracy  0.97\n",
            "Accuracy: 96.93%\n",
            "\n",
            "Test Accuracy  0.98\n",
            "Accuracy: 97.40%\n",
            "\n",
            "Test Accuracy  0.985\n"
          ]
        }
      ]
    },
    {
      "cell_type": "code",
      "source": [
        "#printing the values\n",
        "print(\"Training Accuracy \", acc_hist_train)\n",
        "print(\"Testing Accuracy \", acc_hist_test)\n",
        "print(\"Loss \", loss_hist_train)"
      ],
      "metadata": {
        "colab": {
          "base_uri": "https://localhost:8080/"
        },
        "id": "xwKF7WJUGxhQ",
        "outputId": "953cbedb-d5de-474d-cf97-ec47245a0dcb"
      },
      "execution_count": null,
      "outputs": [
        {
          "output_type": "stream",
          "name": "stdout",
          "text": [
            "Training Accuracy  [0.2561226397457469, 0.2561226397457469, 0.7438773602542531, 0.7438773602542531, 0.7438773602542531, 0.7438773602542531, 0.7438773602542531, 0.7438773602542531, 0.7438773602542531, 0.7633202467750981, 0.8545522527575248, 0.8227706113292205, 0.7586464759768181, 0.7438773602542531, 0.7438773602542531, 0.7438773602542531, 0.7438773602542531, 0.7438773602542531, 0.7438773602542531, 0.7438773602542531, 0.7464946719012899, 0.7629463451112357, 0.8222097588334268, 0.9012899607403253, 0.9489624228827819, 0.9590577678070668, 0.96578799775659, 0.9626098336137596, 0.9693400635632828, 0.9740138343615629]\n",
            "Testing Accuracy  [0.5, 0.5, 0.5, 0.5, 0.5, 0.5, 0.5, 0.5, 0.62, 0.835, 0.775, 0.55, 0.5, 0.5, 0.5, 0.5, 0.5, 0.5, 0.5, 0.51, 0.545, 0.74, 0.87, 0.93, 0.95, 0.955, 0.97, 0.97, 0.98, 0.985]\n",
            "Loss  [7.414608001708984, 3.6718599796295166, 1.8836866617202759, 2.2761785984039307, 2.452768564224243, 2.168726682662964, 1.7775695323944092, 1.5717328786849976, 1.6106823682785034, 1.757707953453064, 1.8071414232254028, 1.7019816637039185, 1.542602300643921, 1.4147242307662964, 1.3717516660690308, 1.3721293210983276, 1.3604111671447754, 1.3324732780456543, 1.2883939743041992, 1.2099719047546387, 1.1086108684539795, 0.9989193677902222, 0.9046849608421326, 0.8307907581329346, 0.7601345777511597, 0.6905926465988159, 0.6175397038459778, 0.5545597076416016, 0.5017049908638, 0.45846325159072876]\n"
          ]
        }
      ]
    },
    {
      "cell_type": "code",
      "source": [
        "Training_Accuracy = acc_hist_train\n",
        "Testing_Accuracy = acc_hist_test\n",
        "Loss = loss_hist_train\n",
        "len(Loss)"
      ],
      "metadata": {
        "colab": {
          "base_uri": "https://localhost:8080/"
        },
        "id": "2GqJhE3qeoj5",
        "outputId": "4fd36d9d-9de3-4f62-e5bd-6703f4da2c8f"
      },
      "execution_count": null,
      "outputs": [
        {
          "output_type": "execute_result",
          "data": {
            "text/plain": [
              "30"
            ]
          },
          "metadata": {},
          "execution_count": 20
        }
      ]
    },
    {
      "cell_type": "code",
      "source": [
        "X = []\n",
        "for i in range(30):\n",
        "  X.append(i)  "
      ],
      "metadata": {
        "id": "iE03_WdKIb7a"
      },
      "execution_count": null,
      "outputs": []
    },
    {
      "cell_type": "code",
      "source": [
        "#graph plotting\n",
        "plt.plot(X, Training_Accuracy, color='red')\n",
        "plt.xlabel('epoch')\n",
        "plt.ylabel('Training Accuracy')\n",
        "plt.title('Performance on Training Data')\n",
        "plt.savefig('Train.jpeg')\n",
        "plt.show()"
      ],
      "metadata": {
        "colab": {
          "base_uri": "https://localhost:8080/",
          "height": 295
        },
        "id": "MprGXTETIiGQ",
        "outputId": "ec9ae5b6-9341-47c0-c02f-db670d640b45"
      },
      "execution_count": null,
      "outputs": [
        {
          "output_type": "display_data",
          "data": {
            "text/plain": [
              "<Figure size 432x288 with 1 Axes>"
            ],
            "image/png": "[encoded data removed]"
          },
          "metadata": {
            "needs_background": "light"
          }
        }
      ]
    },
    {
      "cell_type": "code",
      "source": [
        "plt.plot(X, Testing_Accuracy, color='blue')\n",
        "plt.xlabel('epoch')\n",
        "plt.ylabel('Testing Accuracy')\n",
        "plt.title('Performance on Testing Data')\n",
        "plt.savefig('Test.jpeg')\n",
        "plt.show()"
      ],
      "metadata": {
        "colab": {
          "base_uri": "https://localhost:8080/",
          "height": 295
        },
        "id": "14UxKZIxJcpp",
        "outputId": "654f845d-03dd-4188-8095-c26d2347c1de"
      },
      "execution_count": null,
      "outputs": [
        {
          "output_type": "display_data",
          "data": {
            "text/plain": [
              "<Figure size 432x288 with 1 Axes>"
            ],
            "image/png": "[encoded data removed]"
          },
          "metadata": {
            "needs_background": "light"
          }
        }
      ]
    },
    {
      "cell_type": "code",
      "source": [
        "plt.plot(X, Loss, color='red')\n",
        "plt.xlabel('epoch')\n",
        "plt.ylabel('Loss')\n",
        "plt.savefig('loss.jpeg')\n",
        "plt.show()"
      ],
      "metadata": {
        "colab": {
          "base_uri": "https://localhost:8080/",
          "height": 279
        },
        "id": "930Jlgh9e543",
        "outputId": "03c35bce-db5f-48ce-9d2e-fd7197e897b2"
      },
      "execution_count": null,
      "outputs": [
        {
          "output_type": "display_data",
          "data": {
            "text/plain": [
              "<Figure size 432x288 with 1 Axes>"
            ],
            "image/png": "[encoded data removed]"
          },
          "metadata": {
            "needs_background": "light"
          }
        }
      ]
    }
  ]
}